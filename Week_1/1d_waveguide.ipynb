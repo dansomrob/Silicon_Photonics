{
 "cells": [
  {
   "cell_type": "code",
   "execution_count": 1,
   "metadata": {},
   "outputs": [],
   "source": [
    "import numpy as np\n",
    "import matplotlib.pyplot as plt"
   ]
  },
  {
   "cell_type": "code",
   "execution_count": null,
   "metadata": {},
   "outputs": [],
   "source": [
    "# inputs\n",
    "thickness = 220e-9\n",
    "mode = 'TM'"
   ]
  },
  {
   "cell_type": "markdown",
   "metadata": {},
   "source": [
    "## Effectives Indicies Function\n",
    "Finds the effective indicies of a 3 layer slab waveguide"
   ]
  },
  {
   "cell_type": "code",
   "execution_count": 4,
   "metadata": {},
   "outputs": [],
   "source": [
    "def TE_eq(b0,k0,n1,n2,n3,t):\n",
    "    h0 = np.sqrt( (n2*k0)^2 - b0**2 )\n",
    "    q0 = np.sqrt( b0**2 - (n1*k0)**2 )\n",
    "    p0 = np.sqrt( b0**2 - (n3*k0)**2 )\n",
    "    # the objective is to find zeroes of te0 and tm0\n",
    "    te0 = np.tan( h0*t ) - (p0+q0)/h0/(1-p0*q0/h0**2)\n",
    "    return te0, h0, q0, p0"
   ]
  },
  {
   "cell_type": "code",
   "execution_count": 5,
   "metadata": {},
   "outputs": [],
   "source": [
    "def TM_eq(b0,k0,n1,n2,n3,t):\n",
    "    h0 = np.sqrt( (n2*k0)^2 - b0**2 )\n",
    "    q0 = np.sqrt( b0**2 - (n1*k0)^2 )\n",
    "    p0 = np.sqrt( b0**2 - (n3*k0)^2 )\n",
    "    pbar0 = (n2/n3)**2*p0\n",
    "    qbar0 = (n2/n1)**2*q0\n",
    "    tm0 = np.tan( h0*t ) - h0*(pbar0+qbar0)/(h0**2-pbar0*qbar0)\n",
    "    return tm0,h0,q0,p0"
   ]
  },
  {
   "cell_type": "code",
   "execution_count": 7,
   "metadata": {},
   "outputs": [],
   "source": [
    "# This functions finds the analtical solutions to the effectives indicies for the TM and TE modes.\n",
    "def wg_1D_analytic(wavelength, t, n1, n2, n3):\n",
    "    k0 = 2*np.pi/wavelength # the wave vector\n",
    "    b0 = np.linspace(max(n1,n3)*k0, n2*k0, 1000)   #k0*n3 less than b less than k0*n2\n",
    "    b0 = b0[1:-1]\n",
    "    te0=TE_eq(b0,k0,n1,n2,n3,t)\n",
    "    tm0=TM_eq(b0,k0,n1,n2,n3,t)"
   ]
  },
  {
   "cell_type": "markdown",
   "metadata": {},
   "source": [
    "## Mode Profile Function\n",
    "Finds the mode profiles (E and H components) for the TE and TM modes"
   ]
  },
  {
   "cell_type": "code",
   "execution_count": null,
   "metadata": {},
   "outputs": [],
   "source": [
    "TE_E = list()\n",
    "\n",
    "def wg_1D_mode_profile(wavelength, t, n1, n2, n3, pts, M):\n",
    "    nTE,nTM,TEparam,TMparam= wg_1D_analytic(wavelength,t,n1,n2,n3)\n",
    "\n",
    "    x1=np.linspace( -M*t, -t/2, pts)\n",
    "    x2=np.linspace( -t/2, t/2, pts) \n",
    "    x3=np.linspace( t/2, M*t, pts)\n",
    "    x = [x1, x2, x3]\n",
    "    nx = [n1*np.matlib.ones(pts,1), n2*np.matlib.ones(pts,1), n3*np.matlib.ones(pts,1)]\n",
    "\n",
    "    mu0=4*np.pi*1e-7\n",
    "    epsilon0=8.85e-12\n",
    "    eta=np.sqrt(mu0/epsilon0)\n",
    "    c=3e8\n",
    "    \n",
    "    for i in range(nTE):\n",
    "        h = TEparam(i,2)\n",
    "        q = TEparam(i,3)\n",
    "        p = TEparam(i,4)\n",
    "        beta = 2*np.pi*nTE(i)/wavelength;\n",
    "\t\tC = 2*h*np.sqrt( 2*np.pi*c/wavelength*mu0 / (beta * (t+1/q+1/p)*(h**2+q**2) ) ) # normalize to 1W\n",
    "\t\t# n1, n2, n3 regions\n",
    "\t\tTE_E.append(C*(np.exp(q*(x1+t/2)), (np.cos(h*(x2+t/2))+q/h*np.sin(h*(x2+t/2))), (np.cos(h*t)+q/h*np.sin(h*t))*np.exp(-p*(x3-t/2))))\n"
   ]
  },
  {
   "cell_type": "markdown",
   "metadata": {},
   "source": [
    "## Main Function"
   ]
  },
  {
   "cell_type": "code",
   "execution_count": null,
   "metadata": {},
   "outputs": [],
   "source": [
    "x, TE_E, TE_H, TM_E, TM_H, nTE, nTM = wg_1D_mode_profile(1.55e-6, thickness, 1.444, 3.47, 1.444, 100, 3)"
   ]
  }
 ],
 "metadata": {
  "kernelspec": {
   "display_name": "Python 3.9.2 32-bit",
   "language": "python",
   "name": "python3"
  },
  "language_info": {
   "codemirror_mode": {
    "name": "ipython",
    "version": 3
   },
   "file_extension": ".py",
   "mimetype": "text/x-python",
   "name": "python",
   "nbconvert_exporter": "python",
   "pygments_lexer": "ipython3",
   "version": "3.9.2"
  },
  "orig_nbformat": 4,
  "vscode": {
   "interpreter": {
    "hash": "e7370f93d1d0cde622a1f8e1c04877d8463912d04d973331ad4851f04de6915a"
   }
  }
 },
 "nbformat": 4,
 "nbformat_minor": 2
}
